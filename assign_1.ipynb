{
  "nbformat": 4,
  "nbformat_minor": 0,
  "metadata": {
    "colab": {
      "name": "assign_1.ipynb",
      "version": "0.3.2",
      "provenance": [],
      "include_colab_link": true
    }
  },
  "cells": [
    {
      "cell_type": "markdown",
      "metadata": {
        "id": "view-in-github",
        "colab_type": "text"
      },
      "source": [
        "[View in Colaboratory](https://colab.research.google.com/github/yomnabarakate21/Computer-vision-Course-assignments/blob/master/assign_1.ipynb)"
      ]
    },
    {
      "metadata": {
        "id": "Z6vco2ANaWGw",
        "colab_type": "code",
        "colab": {}
      },
      "cell_type": "code",
      "source": [
        "# Code to read csv file into colaboratory:\n",
        "!pip install -U -q PyDrive\n",
        "from pydrive.auth import GoogleAuth\n",
        "from pydrive.drive import GoogleDrive\n",
        "from google.colab import auth\n",
        "from oauth2client.client import GoogleCredentials"
      ],
      "execution_count": 0,
      "outputs": []
    },
    {
      "metadata": {
        "id": "2j4vlqnHadLb",
        "colab_type": "code",
        "colab": {}
      },
      "cell_type": "code",
      "source": [
        "# 1. Authenticate and create the PyDrive client.\n",
        "auth.authenticate_user()\n",
        "gauth = GoogleAuth()\n",
        "gauth.credentials = GoogleCredentials.get_application_default()\n",
        "drive = GoogleDrive(gauth)"
      ],
      "execution_count": 0,
      "outputs": []
    },
    {
      "metadata": {
        "id": "KU8CJZPCamHU",
        "colab_type": "code",
        "colab": {}
      },
      "cell_type": "code",
      "source": [
        "#2. Get the image\n",
        "test_downloaded=drive.CreateFile({'id':'1CV5O96rjh4XtKW7DJo_mFpffIwsUQw0Q'})\n",
        "#test_downloaded = drive.CreateFile({'id':'1bX53PbUb8-fGBP3q0s89y4GqV5YtYFwa'}) # replace the id with id of file you want to access\n",
        "#test_downloaded = drive.CreateFile({'id':'1XNU2FZKIm8xde7fGMI2_UpRurdZ5jaGc'}) # replace the id with id of file you want to access\n",
        "test_downloaded.GetContentFile('img.PNG')"
      ],
      "execution_count": 0,
      "outputs": []
    }
  ]
}